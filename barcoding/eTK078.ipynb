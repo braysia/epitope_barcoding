{
 "cells": [
  {
   "cell_type": "code",
   "execution_count": null,
   "metadata": {
    "collapsed": true
   },
   "outputs": [],
   "source": []
  },
  {
   "cell_type": "markdown",
   "metadata": {},
   "source": [
    "**Scope:**  \n",
    "Check whether longer incubation of primary antibody leads to stronger signals."
   ]
  },
  {
   "cell_type": "markdown",
   "metadata": {},
   "source": [
    "Plate design:  \n",
    "https://docs.google.com/spreadsheets/d/1X6NSBpaULj6qFl_G7HlqtHokv0nRJk4Wsy7u1vs9jf0/edit#gid=0"
   ]
  },
  {
   "cell_type": "code",
   "execution_count": 1,
   "metadata": {
    "collapsed": false
   },
   "outputs": [],
   "source": [
    "from os.path import join\n",
    "import numpy as np\n",
    "from scipy.ndimage import imread\n",
    "import matplotlib.pyplot as plt\n",
    "from collections import OrderedDict\n",
    "from glob import glob\n",
    "from mi_align import MutualInfoAlignerMultiHypothesis as miamh\n",
    "import json\n",
    "import tifffile as tiff\n",
    "from segmentation_operations import lapgauss_constant\n",
    "%matplotlib inline"
   ]
  },
  {
   "cell_type": "code",
   "execution_count": null,
   "metadata": {
    "collapsed": false
   },
   "outputs": [],
   "source": []
  },
  {
   "cell_type": "code",
   "execution_count": null,
   "metadata": {
    "collapsed": true
   },
   "outputs": [],
   "source": []
  },
  {
   "cell_type": "code",
   "execution_count": 2,
   "metadata": {
    "collapsed": true
   },
   "outputs": [],
   "source": [
    "parent_dir0 = \"/Volumes/covert-lab/instruments/covert-lab-scope1/scope1dataM/Taka/20170123eTK078/beforestain_1/\"\n",
    "parent_dir = \"/Volumes/covert-lab/instruments/covert-lab-scope1/scope1dataM/Taka/20170123eTK078/run_1\""
   ]
  },
  {
   "cell_type": "code",
   "execution_count": null,
   "metadata": {
    "collapsed": true
   },
   "outputs": [],
   "source": []
  },
  {
   "cell_type": "code",
   "execution_count": 83,
   "metadata": {
    "collapsed": false
   },
   "outputs": [],
   "source": [
    "class ImageDict(OrderedDict):\n",
    "    def __sub__(self, other):\n",
    "        new = ImageDict()\n",
    "        for key in self.iterkeys():\n",
    "            arr = self[key] - other[key]\n",
    "            arr[arr<0] = 0\n",
    "            new[key] = arr\n",
    "        return new\n",
    "\n",
    "    def stack(self, imdict):\n",
    "        for key in self.iterkeys():\n",
    "            if not key in imdict:\n",
    "                continue\n",
    "            if self[key].ndim == 3 and imdict[key].ndim == 2:\n",
    "                imdict[key] = np.expand_dims(imdict[key], axis=2)\n",
    "            self[key] = np.stack((self[key], imdict[key]), axis=2)\n",
    "\n",
    "    def return_arr_key(self):\n",
    "        arr_list = []\n",
    "        key_list = []\n",
    "        for key, arr in self.iteritems():\n",
    "            if arr.ndim == 2:\n",
    "                arr = np.expand_dims(arr, 2)\n",
    "            arr_list.append(arr)\n",
    "            for dim in range(arr.shape[2]):\n",
    "                key_list.append(\"r{0}_{1}\".format(dim, key))\n",
    "        arr3d = np.rollaxis(np.dstack(arr_list), axis=2)\n",
    "        return arr3d, key_list\n",
    "\n",
    "    def save(self, file_name):\n",
    "        arr, keys = self.return_arr_key()\n",
    "        metadata = json.dumps(dict(shape=arr.shape, keys=keys))\n",
    "        tiff.imsave(file_name, arr.astype(np.float32), description=metadata)\n",
    "\n",
    "    def load(self, file_name):\n",
    "        arr, metadata = self._readfile(file_name)\n",
    "        keys = metadata[\"keys\"]\n",
    "        chs = [k.split('_')[-1] for k in keys]\n",
    "        for num, ch in enumerate(chs):\n",
    "            if not ch in self:\n",
    "                self[ch] = arr[:, :, num]\n",
    "            else:\n",
    "                self[ch] = np.dstack((self[ch], arr[:, :, num]))\n",
    "    \n",
    "    def _readfile(self, file_name):\n",
    "        with tiff.TiffFile(file_name) as tif:\n",
    "            arr = tif.asarray()\n",
    "            metadata = tif[0].image_description\n",
    "        arr = np.moveaxis(arr, 0, -1)\n",
    "        metadata = json.loads(metadata.decode('utf-8'))\n",
    "        return arr, metadata\n",
    "\n",
    "class Field(object):\n",
    "    def __init__(self, folder, patterns, cnames):\n",
    "        self.folder = folder\n",
    "        self.patterns = patterns\n",
    "        self.cnames = cnames\n",
    "\n",
    "    def construct(self):\n",
    "        \"\"\" return dict\n",
    "        \"\"\"\n",
    "        images = ImageDict()\n",
    "        for num, (pi, ci) in enumerate(zip(self.patterns, self.cnames)):\n",
    "            path = self.read_img_path(self.folder, pi)[0]\n",
    "            images[ci] = imread(path)\n",
    "        return images\n",
    "\n",
    "    def read_img_path(self, folder, pattern):\n",
    "        return glob(join(folder, pattern))"
   ]
  },
  {
   "cell_type": "code",
   "execution_count": null,
   "metadata": {
    "collapsed": false
   },
   "outputs": [],
   "source": []
  },
  {
   "cell_type": "code",
   "execution_count": 69,
   "metadata": {
    "collapsed": false
   },
   "outputs": [],
   "source": [
    "class ImagesCropper(object):\n",
    "    \"\"\"receive Images from ImagesConstructor and then crop it. \n",
    "    \n",
    "    Use calc_jitters() first and then crop().\n",
    "    \"\"\"\n",
    "\n",
    "    def __init__(self, images, DOWNSAMPLE=(8, 4, 2)):\n",
    "        self.images = images\n",
    "        self.DOWNSAMPLE = DOWNSAMPLE\n",
    "\n",
    "    def calc_jitters(self):\n",
    "        \"\"\"Calculate MI for all channels and pick one alignment with the maximum MI. \n",
    "        \"\"\"\n",
    "        images = self.images\n",
    "        jitters = [(0, 0)]  # the first image is the standard\n",
    "        for dim in range(images[images.keys()[0]].shape[2]-1):\n",
    "            ji_store, mi_store = [], []\n",
    "            for ch in images.keys():\n",
    "                img1 = images[ch][:, :, 0]\n",
    "                img2 = images[ch][:, :, dim+1]\n",
    "                mi = miamh(img1, img2, DOWNSAMPLE=self.DOWNSAMPLE)\n",
    "                mi.execute()\n",
    "                ji_store.append((mi._j, mi._i))\n",
    "                mi_store.append(mi.mi)\n",
    "            print ji_store[mi_store.index(max(mi_store))]\n",
    "            jitters.append(ji_store[mi_store.index(max(mi_store))])\n",
    "        self.jitters = jitters\n",
    "        \n",
    "    def crop_multiimages(self, img_list, jit_list):\n",
    "        \"\"\"\n",
    "            img_list (List(np.ndarray)): a list of images\n",
    "            jit_list (List(tuple)): tuple contains jitters e.g. (-5, 5)\n",
    "\n",
    "        >> im_list = [np.ones((4, 4)), np.ones((4, 4)), np.ones((4, 4))]\n",
    "        >> ji_list = [(0, 0), (1, 1), (-1, -1)]\n",
    "        >> crop_common(im_list, ji_list).shape\n",
    "        (2, 2, 3)\n",
    "        \"\"\"\n",
    "        IMG_NUM = len(img_list)\n",
    "        s0, s1 = img_list[0].shape[0], img_list[0].shape[1]\n",
    "        template = np.ones((s0*3, s1*3, IMG_NUM)) * np.Inf\n",
    "        for num, (img, jit) in enumerate(zip(img_list, jit_list)):\n",
    "            template[s0+jit[1]:s0*2+jit[1], s1+jit[0]:s1*2+jit[0], num] = img\n",
    "        x, y = np.where(-(np.isinf(np.max(template, axis=2))))\n",
    "        xmin, xmax = x.min(), x.max()\n",
    "        ymin, ymax = y.min(), y.max()\n",
    "        return template[xmin:xmax+1, ymin:ymax+1, :]\n",
    "\n",
    "    def crop_images(self, images, jit_list):\n",
    "        new_images = {}\n",
    "        for ch, img in images.iteritems():\n",
    "            imlist = [img[:, :, num] for num in range(img.shape[2])]\n",
    "            new_images[ch] = self.crop_multiimages(imlist, jit_list)\n",
    "        return new_images\n",
    "\n",
    "    def crop(self):\n",
    "        return self.crop_images(self.images, self.jitters)\n",
    "\n",
    "class ImagesCropperNuc(ImagesCropper):\n",
    "    \"\"\"\n",
    "    Use DOWNSAMPLE=(8, 4, 2) if not work.\n",
    "    \"\"\"\n",
    "    def __init__(self, images, nucimg, DOWNSAMPLE=(16, 8, 4, 2)):\n",
    "        self.images = images\n",
    "        self.nucimg = nucimg\n",
    "        self.DOWNSAMPLE = DOWNSAMPLE\n",
    "\n",
    "    def calc_jitters(self):\n",
    "        \"\"\"Calculate MI for all channels and pick one alignment with the maximum MI. \n",
    "        \"\"\"\n",
    "        self._ji_store, self._mi_store = [], []\n",
    "        images = self.images\n",
    "        jitters = [(0, 0)]  # the first image is the standard\n",
    "        for dim in range(images[images.keys()[0]].shape[2]):\n",
    "            ji_store, mi_store = [], []\n",
    "            for ch in images.keys():\n",
    "                img1 = self.nucimg.copy()\n",
    "                img2 = images[ch][:, :, dim]\n",
    "                x, y = np.ceil(img1.shape[0]/5), np.ceil(img1.shape[1]/5)                \n",
    "                mi = miamh(img1, img2, DOWNSAMPLE=self.DOWNSAMPLE)\n",
    "                mi.execute()\n",
    "                ji_store.append((mi._j, mi._i))\n",
    "                mi_store.append(mi.mi)\n",
    "            print ji_store[mi_store.index(max(mi_store))]\n",
    "            jitters.append(ji_store[mi_store.index(max(mi_store))])\n",
    "            self._ji_store.append(ji_store)\n",
    "            self._mi_store.append(mi_store)\n",
    "        self.jitters = jitters\n",
    "\n",
    "    def crop_images(self, images, jit_list):\n",
    "        new_images = ImageDict()\n",
    "        for num, (ch, img) in enumerate(images.iteritems()):\n",
    "            imlist = [img[:, :, num] for num in range(img.shape[2])]\n",
    "            imlist.insert(0, self.nucimg.copy())\n",
    "            arr = self.crop_multiimages(imlist, jit_list)\n",
    "            new_images[ch] = arr[:, :, 1:]\n",
    "            crop_nucimg = arr[:, :, 0]\n",
    "        return new_images, crop_nucimg"
   ]
  },
  {
   "cell_type": "code",
   "execution_count": 71,
   "metadata": {
    "collapsed": false
   },
   "outputs": [],
   "source": [
    "nucimg = f0['AMCA'][:,:, 0]\n",
    "icn = ImagesCropperNuc(f0, nucimg, DOWNSAMPLE=(4, 2))"
   ]
  },
  {
   "cell_type": "code",
   "execution_count": null,
   "metadata": {
    "collapsed": false
   },
   "outputs": [],
   "source": []
  },
  {
   "cell_type": "code",
   "execution_count": 72,
   "metadata": {
    "collapsed": false
   },
   "outputs": [],
   "source": [
    "# icn.calc_jitters()\n",
    "icn.jitters = [(0, 0), (0, 0), (11, 8)]"
   ]
  },
  {
   "cell_type": "code",
   "execution_count": 73,
   "metadata": {
    "collapsed": false
   },
   "outputs": [
    {
     "name": "stderr",
     "output_type": "stream",
     "text": [
      "/Users/kudo/.pyenv/versions/anaconda-2.4.0/envs/covertrack/lib/python2.7/site-packages/ipykernel/__main__.py:44: DeprecationWarning: numpy boolean negative, the `-` operator, is deprecated, use the `~` operator or the logical_not function instead.\n"
     ]
    }
   ],
   "source": [
    "cc = icn.crop()"
   ]
  },
  {
   "cell_type": "code",
   "execution_count": 74,
   "metadata": {
    "collapsed": false
   },
   "outputs": [],
   "source": [
    "import png\n",
    "png.from_array(cc[0]['DAPI'][:,:,0].astype(np.uint16), 'L').save('test1.png')\n",
    "png.from_array(cc[0]['DAPI'][:,:,1].astype(np.uint16), 'L').save('test2.png')\n"
   ]
  },
  {
   "cell_type": "code",
   "execution_count": null,
   "metadata": {
    "collapsed": false
   },
   "outputs": [],
   "source": []
  },
  {
   "cell_type": "code",
   "execution_count": null,
   "metadata": {
    "collapsed": true
   },
   "outputs": [],
   "source": []
  },
  {
   "cell_type": "markdown",
   "metadata": {},
   "source": [
    "## A078 plot"
   ]
  },
  {
   "cell_type": "code",
   "execution_count": 75,
   "metadata": {
    "collapsed": true
   },
   "outputs": [],
   "source": [
    "import tempfile\n",
    "import urllib\n",
    "temp_dir= tempfile.mkdtemp()\n",
    "urllib.urlretrieve('http://archive.simtk.org/ktrprotocol/temp/lu_weight.npy', join(temp_dir, 'lu_weight.npy'))\n",
    "weight = np.load(join(temp_dir, 'lu_weight.npy'))\n",
    "urllib.urlretrieve('http://archive.simtk.org/ktrprotocol/temp/bg_hela.npy', join(temp_dir, 'bg_hela.npy'))\n",
    "bg_hela = np.load(join(temp_dir, 'bg_hela.npy'))\n"
   ]
  },
  {
   "cell_type": "code",
   "execution_count": 76,
   "metadata": {
    "collapsed": true
   },
   "outputs": [],
   "source": [
    "def unmixing(field, weight):\n",
    "    corr_field = ImageDict()\n",
    "    stacked = np.vstack([i.ravel() for i in field.itervalues()])\n",
    "    corrected = np.dot(np.linalg.inv(weight), stacked)\n",
    "    for num, key in enumerate(field.iterkeys()):\n",
    "        vec = corrected[num, :]\n",
    "        vec[vec < 0] = 0\n",
    "        corr_field[key] = vec.reshape(field[key].shape)\n",
    "    return corr_field"
   ]
  },
  {
   "cell_type": "code",
   "execution_count": 77,
   "metadata": {
    "collapsed": false
   },
   "outputs": [],
   "source": [
    "patterns = ['*channel006*', '*channel007*', '*channel000*', '*channel001*', '*channel008*', '*channel003*', '*channel004*', '*channel005*']\n",
    "colors = ['AMCA', 'DAPI', 'CFP', 'FITC', 'Orange', 'TRITC', 'Cherry', 'Farred']"
   ]
  },
  {
   "cell_type": "code",
   "execution_count": 95,
   "metadata": {
    "collapsed": true
   },
   "outputs": [],
   "source": [
    "f0 = Field(join(parent_dir0, 'B4_Site_1'), patterns, colors).construct()\n",
    "f = Field(join(parent_dir, 'B5_Site_1'), patterns, colors).construct()\n",
    "bg_h = ImageDict()\n",
    "for num, c in enumerate(colors):\n",
    "    bg_h[c] = bg_hela[:, :, num]"
   ]
  },
  {
   "cell_type": "code",
   "execution_count": null,
   "metadata": {
    "collapsed": false
   },
   "outputs": [],
   "source": []
  },
  {
   "cell_type": "code",
   "execution_count": 96,
   "metadata": {
    "collapsed": false
   },
   "outputs": [],
   "source": [
    "from segmentation_operations import constant_lap_edge\n",
    "nuc = constant_lap_edge(f0['AMCA'], None, THRES=200, NUCRAD=15)"
   ]
  },
  {
   "cell_type": "code",
   "execution_count": 97,
   "metadata": {
    "collapsed": false
   },
   "outputs": [],
   "source": [
    "ff = f - bg_h\n",
    "unff = unmixing(ff, weight)\n",
    "unff0 = f0 - bg_h\n",
    "unff0 = unmixing(unff0, weight)"
   ]
  },
  {
   "cell_type": "code",
   "execution_count": null,
   "metadata": {
    "collapsed": false
   },
   "outputs": [],
   "source": []
  },
  {
   "cell_type": "code",
   "execution_count": 98,
   "metadata": {
    "collapsed": true
   },
   "outputs": [],
   "source": [
    "# unff0['nuc'] = nuc"
   ]
  },
  {
   "cell_type": "code",
   "execution_count": 99,
   "metadata": {
    "collapsed": false
   },
   "outputs": [],
   "source": [
    "unff0.stack(unff)"
   ]
  },
  {
   "cell_type": "code",
   "execution_count": 100,
   "metadata": {
    "collapsed": false
   },
   "outputs": [],
   "source": [
    "unff0.save('test.tif')"
   ]
  },
  {
   "cell_type": "code",
   "execution_count": 101,
   "metadata": {
    "collapsed": false
   },
   "outputs": [],
   "source": [
    "\n",
    "\n",
    "a = ImageDict()\n",
    "a.load('test.tif')"
   ]
  },
  {
   "cell_type": "code",
   "execution_count": 108,
   "metadata": {
    "collapsed": false
   },
   "outputs": [
    {
     "name": "stderr",
     "output_type": "stream",
     "text": [
      "/Users/kudo/.pyenv/versions/anaconda-2.4.0/envs/covertrack/lib/python2.7/site-packages/ipykernel/__main__.py:44: DeprecationWarning: numpy boolean negative, the `-` operator, is deprecated, use the `~` operator or the logical_not function instead.\n"
     ]
    }
   ],
   "source": [
    "icn = ImagesCropperNuc(unff0, nuc, DOWNSAMPLE=(4, 2))\n",
    "icn.jitters = [(0, 0), (0, 0), (11, 8)]\n",
    "cc = icn.crop()"
   ]
  },
  {
   "cell_type": "code",
   "execution_count": 106,
   "metadata": {
    "collapsed": false
   },
   "outputs": [],
   "source": [
    "cc.save('test1.tif')"
   ]
  },
  {
   "cell_type": "code",
   "execution_count": null,
   "metadata": {
    "collapsed": false
   },
   "outputs": [],
   "source": []
  },
  {
   "cell_type": "code",
   "execution_count": 93,
   "metadata": {
    "collapsed": false
   },
   "outputs": [
    {
     "data": {
      "text/plain": [
       "<matplotlib.image.AxesImage at 0x11e433910>"
      ]
     },
     "execution_count": 93,
     "metadata": {},
     "output_type": "execute_result"
    },
    {
     "data": {
      "image/png": "[encoded data removed]",
      "text/plain": [
       "<matplotlib.figure.Figure at 0x131831bd0>"
      ]
     },
     "metadata": {},
     "output_type": "display_data"
    }
   ],
   "source": [
    "plt.imshow(a['nuc'])"
   ]
  },
  {
   "cell_type": "code",
   "execution_count": null,
   "metadata": {
    "collapsed": true
   },
   "outputs": [],
   "source": []
  },
  {
   "cell_type": "code",
   "execution_count": null,
   "metadata": {
    "collapsed": false
   },
   "outputs": [],
   "source": []
  },
  {
   "cell_type": "code",
   "execution_count": null,
   "metadata": {
    "collapsed": true
   },
   "outputs": [],
   "source": []
  },
  {
   "cell_type": "code",
   "execution_count": null,
   "metadata": {
    "collapsed": true
   },
   "outputs": [],
   "source": []
  }
 ],
 "metadata": {
  "kernelspec": {
   "display_name": "Python 2",
   "language": "python",
   "name": "python2"
  },
  "language_info": {
   "codemirror_mode": {
    "name": "ipython",
    "version": 2
   },
   "file_extension": ".py",
   "mimetype": "text/x-python",
   "name": "python",
   "nbconvert_exporter": "python",
   "pygments_lexer": "ipython2",
   "version": "2.7.12"
  }
 },
 "nbformat": 4,
 "nbformat_minor": 0
}
