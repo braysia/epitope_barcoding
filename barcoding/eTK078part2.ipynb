{
 "cells": [
  {
   "cell_type": "markdown",
   "metadata": {},
   "source": [
    "### Scope"
   ]
  },
  {
   "cell_type": "code",
   "execution_count": null,
   "metadata": {
    "collapsed": true
   },
   "outputs": [],
   "source": []
  },
  {
   "cell_type": "code",
   "execution_count": 32,
   "metadata": {
    "collapsed": true
   },
   "outputs": [],
   "source": [
    "from datamodel import RegionExtractor\n",
    "from labeledarray import LabeledArrayConstructor, LabeledArray\n",
    "from os.path import join\n",
    "import numpy as np\n",
    "import matplotlib.pyplot as plt\n",
    "from datamodel import Field, ImageDict\n",
    "from collections import OrderedDict\n",
    "%matplotlib inline"
   ]
  },
  {
   "cell_type": "markdown",
   "metadata": {},
   "source": [
    "Create a labeled array for a single position."
   ]
  },
  {
   "cell_type": "code",
   "execution_count": 20,
   "metadata": {
    "collapsed": true
   },
   "outputs": [],
   "source": [
    "folders = []\n",
    "for al in ('A', 'B', 'C','D','E', 'F', 'G'):\n",
    "    for s in (4, 5, 6, 7):\n",
    "        for s2 in (0, 1, 2, 3):\n",
    "            folders.append('{0}{1}_Site_{2}'.format(al, s, s2))\n",
    "folders.remove('C7_Site_2')"
   ]
  },
  {
   "cell_type": "code",
   "execution_count": 3,
   "metadata": {
    "collapsed": false
   },
   "outputs": [],
   "source": [
    "imdict = ImageDict()\n",
    "imdict.load(join('/Volumes/covert-lab/share/Taka/2017/eTK078/images/', folders[0]+'.tif'))\n",
    "rext = RegionExtractor(imdict, objnames=['nuc'])\n",
    "reg = rext._extract()"
   ]
  },
  {
   "cell_type": "code",
   "execution_count": 15,
   "metadata": {
    "collapsed": false
   },
   "outputs": [
    {
     "name": "stdout",
     "output_type": "stream",
     "text": [
      "(104, 302)\n",
      "[['nuc' 'area' '']\n",
      " ['nuc' 'centroid0' '']\n",
      " ['nuc' 'centroid1' '']\n",
      " ['nuc' 'eccentricity' '']\n",
      " ['nuc' 'label' '']]\n"
     ]
    }
   ],
   "source": [
    "darr = LabeledArrayConstructor(reg).construct()\n",
    "print darr.shape\n",
    "print darr.labelarr[:5]"
   ]
  },
  {
   "cell_type": "markdown",
   "metadata": {},
   "source": [
    "Labeled array stores all the values extratced from segmentation. In this case it has 104 properties and 302 cells.  \n",
    "Each rows corresponds to each rows of labelarr which indicates properties. You can extract data by indexing through properties you want."
   ]
  },
  {
   "cell_type": "code",
   "execution_count": 16,
   "metadata": {
    "collapsed": false
   },
   "outputs": [
    {
     "name": "stdout",
     "output_type": "stream",
     "text": [
      "(2, 302)\n"
     ]
    }
   ],
   "source": [
    "print darr['nuc', 'AMCA', 'median_intensity'].shape"
   ]
  },
  {
   "cell_type": "markdown",
   "metadata": {},
   "source": [
    "In this case, it shows the median intensity from nuclear segmentation in AMCA channel.  \n",
    "There are two rows since there are values from preif and postif."
   ]
  },
  {
   "cell_type": "code",
   "execution_count": 19,
   "metadata": {
    "collapsed": false
   },
   "outputs": [
    {
     "name": "stdout",
     "output_type": "stream",
     "text": [
      "(2, 302)\n"
     ]
    }
   ],
   "source": [
    "darr.save(join('/Volumes/covert-lab/share/Taka/2017/eTK078/values/', folders[0]))\n",
    "la = LabeledArray()\n",
    "la = la.load(join('/Volumes/covert-lab/share/Taka/2017/eTK078/values/', folders[0]+'.npz'))\n",
    "print la['nuc', 'AMCA', 'median_intensity'].shape"
   ]
  },
  {
   "cell_type": "markdown",
   "metadata": {},
   "source": [
    "It still preserves labels and values as it was even you save and load."
   ]
  },
  {
   "cell_type": "code",
   "execution_count": 55,
   "metadata": {
    "collapsed": false
   },
   "outputs": [],
   "source": [
    "# Iterate over folders\n",
    "for folder in folders:\n",
    "    imdict = ImageDict()\n",
    "    imdict.load(join('/Volumes/covert-lab/share/Taka/2017/eTK078/images/', folder+'.tif'))\n",
    "    rext = RegionExtractor(imdict, objnames=['nuc'])\n",
    "    reg = rext._extract()\n",
    "    darr = LabeledArrayConstructor(reg).construct()\n",
    "    darr.save(join('/Volumes/covert-lab/share/Taka/2017/eTK078/values/', folder))"
   ]
  },
  {
   "cell_type": "code",
   "execution_count": null,
   "metadata": {
    "collapsed": false
   },
   "outputs": [],
   "source": []
  },
  {
   "cell_type": "markdown",
   "metadata": {},
   "source": [
    "Now start plotting the stats just for the E2 staining. It is Farred channel."
   ]
  },
  {
   "cell_type": "code",
   "execution_count": 56,
   "metadata": {
    "collapsed": true
   },
   "outputs": [],
   "source": [
    "# notags for HeLa WT, tags for HeLa expressing epitopes.\n",
    "notags_folders = [i for i in folders if '4_Site' in i]\n",
    "tags_folders = [i for i in folders if '5_Site' in i]"
   ]
  },
  {
   "cell_type": "code",
   "execution_count": 59,
   "metadata": {
    "collapsed": false
   },
   "outputs": [],
   "source": [
    "notags, tags = OrderedDict(), OrderedDict()\n",
    "for folder in notags_folders:\n",
    "    la = LabeledArray()\n",
    "    notags[i] = la.load(join('/Volumes/covert-lab/share/Taka/2017/eTK078/values/', folder+'.npz'))\n",
    "for folder in tags_folders:\n",
    "    la = LabeledArray()\n",
    "    tags[i] = la.load(join('/Volumes/covert-lab/share/Taka/2017/eTK078/values/', folder+'.npz'))"
   ]
  },
  {
   "cell_type": "code",
   "execution_count": null,
   "metadata": {
    "collapsed": false
   },
   "outputs": [],
   "source": []
  },
  {
   "cell_type": "code",
   "execution_count": null,
   "metadata": {
    "collapsed": true
   },
   "outputs": [],
   "source": []
  },
  {
   "cell_type": "code",
   "execution_count": null,
   "metadata": {
    "collapsed": true
   },
   "outputs": [],
   "source": []
  },
  {
   "cell_type": "code",
   "execution_count": null,
   "metadata": {
    "collapsed": true
   },
   "outputs": [],
   "source": []
  }
 ],
 "metadata": {
  "kernelspec": {
   "display_name": "Python 2",
   "language": "python",
   "name": "python2"
  },
  "language_info": {
   "codemirror_mode": {
    "name": "ipython",
    "version": 2
   },
   "file_extension": ".py",
   "mimetype": "text/x-python",
   "name": "python",
   "nbconvert_exporter": "python",
   "pygments_lexer": "ipython2",
   "version": "2.7.12"
  }
 },
 "nbformat": 4,
 "nbformat_minor": 0
}
